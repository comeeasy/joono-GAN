{
 "cells": [
  {
   "cell_type": "markdown",
   "metadata": {},
   "source": [
    "# Import"
   ]
  },
  {
   "cell_type": "code",
   "execution_count": 4,
   "metadata": {},
   "outputs": [],
   "source": [
    "import torch\n",
    "import torch.nn as nn\n",
    "import torch.optim as optim\n",
    "import torchvision\n",
    "import torchvision.transforms as transforms\n",
    "import torchvision.datasets as dset\n",
    "from torch.utils.data import DataLoader\n",
    "\n",
    "from tqdm import tqdm"
   ]
  },
  {
   "cell_type": "code",
   "execution_count": 5,
   "metadata": {},
   "outputs": [
    {
     "data": {
      "text/plain": [
       "True"
      ]
     },
     "execution_count": 5,
     "metadata": {},
     "output_type": "execute_result"
    }
   ],
   "source": [
    "torch.cuda.is_available()"
   ]
  },
  {
   "cell_type": "markdown",
   "metadata": {},
   "source": [
    "# Model"
   ]
  },
  {
   "cell_type": "code",
   "execution_count": 6,
   "metadata": {},
   "outputs": [],
   "source": [
    "class FCBlock(nn.Module):\n",
    "    def __init__(self, _in, _out):\n",
    "        super().__init__()\n",
    "        self.layers = nn.Sequential(\n",
    "            nn.Linear(_in, _out, bias=True),\n",
    "            nn.LeakyReLU(0.2, inplace=True)\n",
    "        )\n",
    "\n",
    "        self._init_weights(self.layers)\n",
    "    \n",
    "    def _init_weights(self, module):\n",
    "        if isinstance(module, nn.Linear):\n",
    "            nn.init.normal_(module.weight.data, 0.0, 0.02)\n",
    "            if module.bias is not None:\n",
    "                module.bias.data.zero_()\n",
    "        elif isinstance(module, nn.BatchNorm1d):\n",
    "            nn.init.normal_(module.weight.data, 1.0, 0.02)\n",
    "            nn.init.constant_(module.bias.data, 0)\n",
    "\n",
    "\n",
    "    def forward(self, x):\n",
    "        return self.layers(x)"
   ]
  },
  {
   "cell_type": "code",
   "execution_count": 7,
   "metadata": {},
   "outputs": [],
   "source": [
    "z_dim = 100\n",
    "\n",
    "class Generator(nn.Module):\n",
    "    def __init__(self, in_dim, out_dim, hidden_dim):\n",
    "        super().__init__()\n",
    "        self.input_layer = nn.Sequential(\n",
    "            FCBlock(in_dim, hidden_dim)\n",
    "        )\n",
    "        self.hidden_layers = nn.Sequential(\n",
    "            FCBlock(hidden_dim, 2 * hidden_dim),\n",
    "            FCBlock(2 * hidden_dim, 4 * hidden_dim),\n",
    "        )\n",
    "        self.output_layer = nn.Sequential(\n",
    "            nn.Linear(4 * hidden_dim, out_dim),\n",
    "            nn.Tanh()\n",
    "        )\n",
    "\n",
    "    def forward(self, x):\n",
    "        out = self.input_layer(x)\n",
    "        out = self.hidden_layers(out)\n",
    "        out = self.output_layer(out)\n",
    "\n",
    "        return out"
   ]
  },
  {
   "cell_type": "code",
   "execution_count": 8,
   "metadata": {},
   "outputs": [],
   "source": [
    "class Discriminator(nn.Module):\n",
    "    def __init__(self, in_dim, out_dim, hidden_dim):\n",
    "        super().__init__()\n",
    "        self.input_layer = FCBlock(in_dim, 4 * hidden_dim)\n",
    "        \n",
    "        self.hidden_layers = nn.Sequential(\n",
    "            FCBlock(4 * hidden_dim, 2 * hidden_dim),\n",
    "            FCBlock(2 * hidden_dim, hidden_dim)\n",
    "        )\n",
    "        self.output_layer = nn.Sequential(\n",
    "            nn.Linear(hidden_dim, out_dim),\n",
    "            nn.Sigmoid()\n",
    "        )\n",
    "        \n",
    "\n",
    "    def forward(self, x):\n",
    "        out = self.input_layer(x)\n",
    "        out = self.hidden_layers(out)\n",
    "        out = self.output_layer(out)\n",
    "\n",
    "        return out\n",
    "        "
   ]
  },
  {
   "cell_type": "markdown",
   "metadata": {},
   "source": [
    "# Dataset"
   ]
  },
  {
   "cell_type": "code",
   "execution_count": 9,
   "metadata": {},
   "outputs": [],
   "source": [
    "dataset = dset.MNIST(\n",
    "    root=\"./data/\",\n",
    "    train=True,\n",
    "    transform=transforms.Compose([\n",
    "        transforms.ToTensor(),\n",
    "        transforms.Normalize([0.5], [0.5])\n",
    "    ]),\n",
    "    download=True\n",
    ")"
   ]
  },
  {
   "cell_type": "code",
   "execution_count": 14,
   "metadata": {},
   "outputs": [],
   "source": [
    "BATCH_SIZE = 32\n",
    "\n",
    "data_loader = DataLoader(\n",
    "    dataset=dataset,\n",
    "    batch_size=BATCH_SIZE,\n",
    "    num_workers=8,\n",
    "    shuffle=True,\n",
    "    drop_last=True\n",
    ")"
   ]
  },
  {
   "cell_type": "markdown",
   "metadata": {},
   "source": [
    "# Train"
   ]
  },
  {
   "cell_type": "code",
   "execution_count": 15,
   "metadata": {},
   "outputs": [],
   "source": [
    "G = Generator(in_dim=z_dim, out_dim=784, hidden_dim=128).to(\"cuda\")\n",
    "D = Discriminator(in_dim=784, out_dim=1, hidden_dim=128).to(\"cuda\") \n",
    "\n",
    "criterion = nn.BCELoss().cuda()\n",
    "D_optimizer = optim.Adam(params=D.parameters(), lr=2e-4)\n",
    "G_optimizer = optim.Adam(params=G.parameters(), lr=2e-4)\n",
    "\n",
    "K = 1\n",
    "epochs = 100"
   ]
  },
  {
   "cell_type": "code",
   "execution_count": 16,
   "metadata": {},
   "outputs": [
    {
     "name": "stderr",
     "output_type": "stream",
     "text": [
      "  1%|          | 1/100 [00:10<17:31, 10.62s/it]"
     ]
    },
    {
     "name": "stdout",
     "output_type": "stream",
     "text": [
      "epoch:   1\tloss D real: 0.44312\tloss D fake: 0.52166\tloss G: 2.16851\n"
     ]
    },
    {
     "name": "stderr",
     "output_type": "stream",
     "text": [
      "  2%|▏         | 2/100 [00:20<17:00, 10.41s/it]"
     ]
    },
    {
     "name": "stdout",
     "output_type": "stream",
     "text": [
      "epoch:   2\tloss D real: 0.51678\tloss D fake: 0.42873\tloss G: 2.03105\n"
     ]
    },
    {
     "name": "stderr",
     "output_type": "stream",
     "text": [
      "  3%|▎         | 3/100 [00:31<17:12, 10.65s/it]"
     ]
    },
    {
     "name": "stdout",
     "output_type": "stream",
     "text": [
      "epoch:   3\tloss D real: 0.29944\tloss D fake: 0.19996\tloss G: 3.26028\n"
     ]
    },
    {
     "name": "stderr",
     "output_type": "stream",
     "text": [
      "  4%|▍         | 4/100 [00:41<16:31, 10.33s/it]"
     ]
    },
    {
     "name": "stdout",
     "output_type": "stream",
     "text": [
      "epoch:   4\tloss D real: 0.29859\tloss D fake: 0.21535\tloss G: 2.85054\n"
     ]
    },
    {
     "name": "stderr",
     "output_type": "stream",
     "text": [
      "  5%|▌         | 5/100 [00:51<16:05, 10.16s/it]"
     ]
    },
    {
     "name": "stdout",
     "output_type": "stream",
     "text": [
      "epoch:   5\tloss D real: 0.28084\tloss D fake: 0.19477\tloss G: 3.01753\n"
     ]
    },
    {
     "name": "stderr",
     "output_type": "stream",
     "text": [
      "  6%|▌         | 6/100 [01:02<16:07, 10.30s/it]"
     ]
    },
    {
     "name": "stdout",
     "output_type": "stream",
     "text": [
      "epoch:   6\tloss D real: 0.32074\tloss D fake: 0.25351\tloss G: 2.51439\n"
     ]
    },
    {
     "name": "stderr",
     "output_type": "stream",
     "text": [
      "  7%|▋         | 7/100 [01:12<16:06, 10.39s/it]"
     ]
    },
    {
     "name": "stdout",
     "output_type": "stream",
     "text": [
      "epoch:   7\tloss D real: 0.34569\tloss D fake: 0.28637\tloss G: 2.43168\n"
     ]
    },
    {
     "name": "stderr",
     "output_type": "stream",
     "text": [
      "  8%|▊         | 8/100 [01:23<15:56, 10.40s/it]"
     ]
    },
    {
     "name": "stdout",
     "output_type": "stream",
     "text": [
      "epoch:   8\tloss D real: 0.36088\tloss D fake: 0.30904\tloss G: 2.25669\n"
     ]
    },
    {
     "name": "stderr",
     "output_type": "stream",
     "text": [
      "  9%|▉         | 9/100 [01:32<15:27, 10.19s/it]"
     ]
    },
    {
     "name": "stdout",
     "output_type": "stream",
     "text": [
      "epoch:   9\tloss D real: 0.35092\tloss D fake: 0.29740\tloss G: 2.29129\n"
     ]
    },
    {
     "name": "stderr",
     "output_type": "stream",
     "text": [
      " 10%|█         | 10/100 [01:43<15:28, 10.32s/it]"
     ]
    },
    {
     "name": "stdout",
     "output_type": "stream",
     "text": [
      "epoch:  10\tloss D real: 0.37165\tloss D fake: 0.32191\tloss G: 2.15251\n"
     ]
    },
    {
     "name": "stderr",
     "output_type": "stream",
     "text": [
      " 11%|█         | 11/100 [01:53<15:13, 10.26s/it]"
     ]
    },
    {
     "name": "stdout",
     "output_type": "stream",
     "text": [
      "epoch:  11\tloss D real: 0.38633\tloss D fake: 0.33907\tloss G: 2.06487\n"
     ]
    },
    {
     "name": "stderr",
     "output_type": "stream",
     "text": [
      " 12%|█▏        | 12/100 [02:04<15:11, 10.36s/it]"
     ]
    },
    {
     "name": "stdout",
     "output_type": "stream",
     "text": [
      "epoch:  12\tloss D real: 0.40757\tloss D fake: 0.36082\tloss G: 1.89829\n"
     ]
    },
    {
     "name": "stderr",
     "output_type": "stream",
     "text": [
      " 13%|█▎        | 13/100 [02:14<14:53, 10.27s/it]"
     ]
    },
    {
     "name": "stdout",
     "output_type": "stream",
     "text": [
      "epoch:  13\tloss D real: 0.42871\tloss D fake: 0.39050\tloss G: 1.80604\n"
     ]
    },
    {
     "name": "stderr",
     "output_type": "stream",
     "text": [
      " 14%|█▍        | 14/100 [02:24<14:36, 10.19s/it]"
     ]
    },
    {
     "name": "stdout",
     "output_type": "stream",
     "text": [
      "epoch:  14\tloss D real: 0.42872\tloss D fake: 0.38886\tloss G: 1.78917\n"
     ]
    },
    {
     "name": "stderr",
     "output_type": "stream",
     "text": [
      " 15%|█▌        | 15/100 [02:34<14:27, 10.21s/it]"
     ]
    },
    {
     "name": "stdout",
     "output_type": "stream",
     "text": [
      "epoch:  15\tloss D real: 0.44303\tloss D fake: 0.40451\tloss G: 1.72310\n"
     ]
    },
    {
     "name": "stderr",
     "output_type": "stream",
     "text": [
      " 16%|█▌        | 16/100 [02:44<14:25, 10.31s/it]"
     ]
    },
    {
     "name": "stdout",
     "output_type": "stream",
     "text": [
      "epoch:  16\tloss D real: 0.45128\tloss D fake: 0.41826\tloss G: 1.65617\n"
     ]
    },
    {
     "name": "stderr",
     "output_type": "stream",
     "text": [
      " 17%|█▋        | 17/100 [02:55<14:30, 10.49s/it]"
     ]
    },
    {
     "name": "stdout",
     "output_type": "stream",
     "text": [
      "epoch:  17\tloss D real: 0.45759\tloss D fake: 0.42835\tloss G: 1.61472\n"
     ]
    },
    {
     "name": "stderr",
     "output_type": "stream",
     "text": [
      " 18%|█▊        | 18/100 [03:06<14:12, 10.40s/it]"
     ]
    },
    {
     "name": "stdout",
     "output_type": "stream",
     "text": [
      "epoch:  18\tloss D real: 0.46185\tloss D fake: 0.43428\tloss G: 1.61002\n"
     ]
    },
    {
     "name": "stderr",
     "output_type": "stream",
     "text": [
      " 19%|█▉        | 19/100 [03:15<13:45, 10.19s/it]"
     ]
    },
    {
     "name": "stdout",
     "output_type": "stream",
     "text": [
      "epoch:  19\tloss D real: 0.46848\tloss D fake: 0.44032\tloss G: 1.56890\n"
     ]
    },
    {
     "name": "stderr",
     "output_type": "stream",
     "text": [
      " 20%|██        | 20/100 [03:26<13:44, 10.31s/it]"
     ]
    },
    {
     "name": "stdout",
     "output_type": "stream",
     "text": [
      "epoch:  20\tloss D real: 0.47052\tloss D fake: 0.44027\tloss G: 1.56536\n"
     ]
    },
    {
     "name": "stderr",
     "output_type": "stream",
     "text": [
      " 21%|██        | 21/100 [03:37<13:45, 10.45s/it]"
     ]
    },
    {
     "name": "stdout",
     "output_type": "stream",
     "text": [
      "epoch:  21\tloss D real: 0.47445\tloss D fake: 0.44848\tloss G: 1.53413\n"
     ]
    },
    {
     "name": "stderr",
     "output_type": "stream",
     "text": [
      " 22%|██▏       | 22/100 [03:47<13:32, 10.41s/it]"
     ]
    },
    {
     "name": "stdout",
     "output_type": "stream",
     "text": [
      "epoch:  22\tloss D real: 0.48242\tloss D fake: 0.45534\tloss G: 1.51500\n"
     ]
    },
    {
     "name": "stderr",
     "output_type": "stream",
     "text": [
      " 23%|██▎       | 23/100 [03:57<13:09, 10.25s/it]"
     ]
    },
    {
     "name": "stdout",
     "output_type": "stream",
     "text": [
      "epoch:  23\tloss D real: 0.48756\tloss D fake: 0.46117\tloss G: 1.47622\n"
     ]
    },
    {
     "name": "stderr",
     "output_type": "stream",
     "text": [
      " 24%|██▍       | 24/100 [04:07<13:06, 10.35s/it]"
     ]
    },
    {
     "name": "stdout",
     "output_type": "stream",
     "text": [
      "epoch:  24\tloss D real: 0.48677\tloss D fake: 0.46343\tloss G: 1.46142\n"
     ]
    },
    {
     "name": "stderr",
     "output_type": "stream",
     "text": [
      " 25%|██▌       | 25/100 [04:18<12:52, 10.30s/it]"
     ]
    },
    {
     "name": "stdout",
     "output_type": "stream",
     "text": [
      "epoch:  25\tloss D real: 0.49116\tloss D fake: 0.46789\tloss G: 1.46178\n"
     ]
    },
    {
     "name": "stderr",
     "output_type": "stream",
     "text": [
      " 26%|██▌       | 26/100 [04:28<12:54, 10.47s/it]"
     ]
    },
    {
     "name": "stdout",
     "output_type": "stream",
     "text": [
      "epoch:  26\tloss D real: 0.49595\tloss D fake: 0.47658\tloss G: 1.42489\n"
     ]
    },
    {
     "name": "stderr",
     "output_type": "stream",
     "text": [
      " 27%|██▋       | 27/100 [04:38<12:32, 10.31s/it]"
     ]
    },
    {
     "name": "stdout",
     "output_type": "stream",
     "text": [
      "epoch:  27\tloss D real: 0.49889\tloss D fake: 0.47796\tloss G: 1.43195\n"
     ]
    },
    {
     "name": "stderr",
     "output_type": "stream",
     "text": [
      " 28%|██▊       | 28/100 [04:48<12:14, 10.20s/it]"
     ]
    },
    {
     "name": "stdout",
     "output_type": "stream",
     "text": [
      "epoch:  28\tloss D real: 0.49603\tloss D fake: 0.47627\tloss G: 1.43977\n"
     ]
    },
    {
     "name": "stderr",
     "output_type": "stream",
     "text": [
      " 29%|██▉       | 29/100 [04:59<12:09, 10.28s/it]"
     ]
    },
    {
     "name": "stdout",
     "output_type": "stream",
     "text": [
      "epoch:  29\tloss D real: 0.50213\tloss D fake: 0.48299\tloss G: 1.42216\n"
     ]
    },
    {
     "name": "stderr",
     "output_type": "stream",
     "text": [
      " 30%|███       | 30/100 [05:09<11:57, 10.24s/it]"
     ]
    },
    {
     "name": "stdout",
     "output_type": "stream",
     "text": [
      "epoch:  30\tloss D real: 0.50483\tloss D fake: 0.48492\tloss G: 1.41524\n"
     ]
    },
    {
     "name": "stderr",
     "output_type": "stream",
     "text": [
      " 31%|███       | 31/100 [05:20<12:01, 10.46s/it]"
     ]
    },
    {
     "name": "stdout",
     "output_type": "stream",
     "text": [
      "epoch:  31\tloss D real: 0.50681\tloss D fake: 0.48577\tloss G: 1.38927\n"
     ]
    },
    {
     "name": "stderr",
     "output_type": "stream",
     "text": [
      " 32%|███▏      | 32/100 [05:30<11:41, 10.31s/it]"
     ]
    },
    {
     "name": "stdout",
     "output_type": "stream",
     "text": [
      "epoch:  32\tloss D real: 0.50734\tloss D fake: 0.48931\tloss G: 1.39331\n"
     ]
    },
    {
     "name": "stderr",
     "output_type": "stream",
     "text": [
      " 33%|███▎      | 33/100 [05:40<11:20, 10.15s/it]"
     ]
    },
    {
     "name": "stdout",
     "output_type": "stream",
     "text": [
      "epoch:  33\tloss D real: 0.50806\tloss D fake: 0.48726\tloss G: 1.40954\n"
     ]
    },
    {
     "name": "stderr",
     "output_type": "stream",
     "text": [
      " 34%|███▍      | 34/100 [05:50<11:17, 10.27s/it]"
     ]
    },
    {
     "name": "stdout",
     "output_type": "stream",
     "text": [
      "epoch:  34\tloss D real: 0.50914\tloss D fake: 0.49174\tloss G: 1.38454\n"
     ]
    },
    {
     "name": "stderr",
     "output_type": "stream",
     "text": [
      " 35%|███▌      | 35/100 [06:01<11:19, 10.46s/it]"
     ]
    },
    {
     "name": "stdout",
     "output_type": "stream",
     "text": [
      "epoch:  35\tloss D real: 0.50770\tloss D fake: 0.49096\tloss G: 1.37592\n"
     ]
    },
    {
     "name": "stderr",
     "output_type": "stream",
     "text": [
      " 36%|███▌      | 36/100 [06:12<11:09, 10.46s/it]"
     ]
    },
    {
     "name": "stdout",
     "output_type": "stream",
     "text": [
      "epoch:  36\tloss D real: 0.51187\tloss D fake: 0.49448\tloss G: 1.36695\n"
     ]
    },
    {
     "name": "stderr",
     "output_type": "stream",
     "text": [
      " 37%|███▋      | 37/100 [06:22<10:51, 10.34s/it]"
     ]
    },
    {
     "name": "stdout",
     "output_type": "stream",
     "text": [
      "epoch:  37\tloss D real: 0.51019\tloss D fake: 0.49226\tloss G: 1.38351\n"
     ]
    },
    {
     "name": "stderr",
     "output_type": "stream",
     "text": [
      " 38%|███▊      | 38/100 [06:32<10:45, 10.41s/it]"
     ]
    },
    {
     "name": "stdout",
     "output_type": "stream",
     "text": [
      "epoch:  38\tloss D real: 0.51536\tloss D fake: 0.49783\tloss G: 1.36488\n"
     ]
    },
    {
     "name": "stderr",
     "output_type": "stream",
     "text": [
      " 39%|███▉      | 39/100 [06:43<10:34, 10.41s/it]"
     ]
    },
    {
     "name": "stdout",
     "output_type": "stream",
     "text": [
      "epoch:  39\tloss D real: 0.51480\tloss D fake: 0.49813\tloss G: 1.35445\n"
     ]
    },
    {
     "name": "stderr",
     "output_type": "stream",
     "text": [
      " 40%|████      | 40/100 [06:53<10:25, 10.43s/it]"
     ]
    },
    {
     "name": "stdout",
     "output_type": "stream",
     "text": [
      "epoch:  40\tloss D real: 0.51264\tloss D fake: 0.49411\tloss G: 1.37789\n"
     ]
    },
    {
     "name": "stderr",
     "output_type": "stream",
     "text": [
      " 41%|████      | 41/100 [07:03<10:06, 10.28s/it]"
     ]
    },
    {
     "name": "stdout",
     "output_type": "stream",
     "text": [
      "epoch:  41\tloss D real: 0.51478\tloss D fake: 0.49568\tloss G: 1.35198\n"
     ]
    },
    {
     "name": "stderr",
     "output_type": "stream",
     "text": [
      " 42%|████▏     | 42/100 [07:13<09:53, 10.24s/it]"
     ]
    },
    {
     "name": "stdout",
     "output_type": "stream",
     "text": [
      "epoch:  42\tloss D real: 0.51385\tloss D fake: 0.49761\tloss G: 1.35669\n"
     ]
    },
    {
     "name": "stderr",
     "output_type": "stream",
     "text": [
      " 43%|████▎     | 43/100 [07:24<09:52, 10.39s/it]"
     ]
    },
    {
     "name": "stdout",
     "output_type": "stream",
     "text": [
      "epoch:  43\tloss D real: 0.51491\tloss D fake: 0.49692\tloss G: 1.35345\n"
     ]
    },
    {
     "name": "stderr",
     "output_type": "stream",
     "text": [
      " 44%|████▍     | 44/100 [07:34<09:44, 10.43s/it]"
     ]
    },
    {
     "name": "stdout",
     "output_type": "stream",
     "text": [
      "epoch:  44\tloss D real: 0.51604\tloss D fake: 0.49842\tloss G: 1.35785\n"
     ]
    },
    {
     "name": "stderr",
     "output_type": "stream",
     "text": [
      " 45%|████▌     | 45/100 [07:45<09:34, 10.44s/it]"
     ]
    },
    {
     "name": "stdout",
     "output_type": "stream",
     "text": [
      "epoch:  45\tloss D real: 0.51296\tloss D fake: 0.49509\tloss G: 1.35837\n"
     ]
    },
    {
     "name": "stderr",
     "output_type": "stream",
     "text": [
      " 46%|████▌     | 46/100 [07:55<09:14, 10.27s/it]"
     ]
    },
    {
     "name": "stdout",
     "output_type": "stream",
     "text": [
      "epoch:  46\tloss D real: 0.51696\tloss D fake: 0.49841\tloss G: 1.35334\n"
     ]
    },
    {
     "name": "stderr",
     "output_type": "stream",
     "text": [
      " 46%|████▌     | 46/100 [07:55<09:18, 10.34s/it]\n"
     ]
    },
    {
     "ename": "KeyboardInterrupt",
     "evalue": "",
     "output_type": "error",
     "traceback": [
      "\u001b[0;31m---------------------------------------------------------------------------\u001b[0m",
      "\u001b[0;31mKeyboardInterrupt\u001b[0m                         Traceback (most recent call last)",
      "\u001b[0;32m/tmp/ipykernel_301542/1522794515.py\u001b[0m in \u001b[0;36m<module>\u001b[0;34m\u001b[0m\n\u001b[1;32m     42\u001b[0m         \u001b[0mG_optimizer\u001b[0m\u001b[0;34m.\u001b[0m\u001b[0mstep\u001b[0m\u001b[0;34m(\u001b[0m\u001b[0;34m)\u001b[0m\u001b[0;34m\u001b[0m\u001b[0;34m\u001b[0m\u001b[0m\n\u001b[1;32m     43\u001b[0m \u001b[0;34m\u001b[0m\u001b[0m\n\u001b[0;32m---> 44\u001b[0;31m         \u001b[0mavgLoss_D_real\u001b[0m \u001b[0;34m+=\u001b[0m \u001b[0mlossD_real\u001b[0m\u001b[0;34m.\u001b[0m\u001b[0mmean\u001b[0m\u001b[0;34m(\u001b[0m\u001b[0;34m)\u001b[0m\u001b[0;34m.\u001b[0m\u001b[0mitem\u001b[0m\u001b[0;34m(\u001b[0m\u001b[0;34m)\u001b[0m \u001b[0;34m/\u001b[0m \u001b[0mtotal_batch\u001b[0m\u001b[0;34m\u001b[0m\u001b[0;34m\u001b[0m\u001b[0m\n\u001b[0m\u001b[1;32m     45\u001b[0m         \u001b[0mavgLoss_D_fake\u001b[0m \u001b[0;34m+=\u001b[0m \u001b[0mlossD_fake\u001b[0m\u001b[0;34m.\u001b[0m\u001b[0mmean\u001b[0m\u001b[0;34m(\u001b[0m\u001b[0;34m)\u001b[0m\u001b[0;34m.\u001b[0m\u001b[0mitem\u001b[0m\u001b[0;34m(\u001b[0m\u001b[0;34m)\u001b[0m \u001b[0;34m/\u001b[0m \u001b[0mtotal_batch\u001b[0m\u001b[0;34m\u001b[0m\u001b[0;34m\u001b[0m\u001b[0m\n\u001b[1;32m     46\u001b[0m         \u001b[0mavgLoss_G\u001b[0m \u001b[0;34m+=\u001b[0m \u001b[0mlossG\u001b[0m\u001b[0;34m.\u001b[0m\u001b[0mmean\u001b[0m\u001b[0;34m(\u001b[0m\u001b[0;34m)\u001b[0m\u001b[0;34m.\u001b[0m\u001b[0mitem\u001b[0m\u001b[0;34m(\u001b[0m\u001b[0;34m)\u001b[0m \u001b[0;34m/\u001b[0m \u001b[0mtotal_batch\u001b[0m\u001b[0;34m\u001b[0m\u001b[0;34m\u001b[0m\u001b[0m\n",
      "\u001b[0;31mKeyboardInterrupt\u001b[0m: "
     ]
    }
   ],
   "source": [
    "total_batch = len(data_loader)\n",
    "img_list = []\n",
    "\n",
    "for epoch in tqdm(range(epochs)):\n",
    "    avgLoss_D_real = 0\n",
    "    avgLoss_D_fake = 0\n",
    "    avgLoss_G = 0\n",
    "\n",
    "    for X, Y in data_loader:\n",
    "        X = X.view(-1, 784)\n",
    "        X = X.cuda()\n",
    "\n",
    "        for _ in range(K):\n",
    "            noise = torch.randn(BATCH_SIZE, z_dim, device=\"cuda\")\n",
    "            fake = G(noise)\n",
    "\n",
    "            predict = D(X).view(-1)\n",
    "\n",
    "            real_label = torch.ones((BATCH_SIZE,), dtype=torch.float, device=\"cuda\")\n",
    "            lossD_real = criterion(predict, real_label.detach())    \n",
    "\n",
    "            predict = D(fake.detach()).view(-1)\n",
    "\n",
    "            fake_label = torch.zeros((BATCH_SIZE,), dtype=torch.float, device=\"cuda\")\n",
    "            lossD_fake = criterion(predict, fake_label.detach())\n",
    "\n",
    "            lossD = (lossD_real + lossD_fake) / 2\n",
    "\n",
    "            D.zero_grad()\n",
    "            lossD.backward()\n",
    "            D_optimizer.step()\n",
    "\n",
    "        noise = torch.randn(BATCH_SIZE, z_dim, device=\"cuda\")\n",
    "        fake = G(noise)\n",
    "        real_label_G = torch.zeros((BATCH_SIZE,), dtype=torch.float, device=\"cuda\")\n",
    "\n",
    "        predict = D(fake).view(-1)\n",
    "        lossG = criterion(1 - predict, real_label_G.detach())\n",
    "\n",
    "        G.zero_grad()\n",
    "        lossG.backward()\n",
    "        G_optimizer.step()\n",
    "\n",
    "        avgLoss_D_real += lossD_real.mean().item() / total_batch\n",
    "        avgLoss_D_fake += lossD_fake.mean().item() / total_batch\n",
    "        avgLoss_G += lossG.mean().item() / total_batch\n",
    "    \n",
    "    if (epoch+1) % 1 == 0:\n",
    "        print(f\"epoch: {epoch+1:3d}\\tloss D real: {avgLoss_D_real:.5f}\\tloss D fake: {avgLoss_D_fake:.5f}\\tloss G: {avgLoss_G:.5f}\")\n",
    "        img_list.append(fake[0])\n",
    "\n"
   ]
  },
  {
   "cell_type": "markdown",
   "metadata": {},
   "source": []
  },
  {
   "cell_type": "markdown",
   "metadata": {},
   "source": [
    "# Visualization"
   ]
  },
  {
   "cell_type": "code",
   "execution_count": 18,
   "metadata": {},
   "outputs": [
    {
     "data": {
      "image/png": "[encoded data removed]",
      "text/plain": [
       "<Figure size 432x288 with 1 Axes>"
      ]
     },
     "metadata": {
      "needs_background": "light"
     },
     "output_type": "display_data"
    },
    {
     "data": {
      "image/png": "[encoded data removed]",
      "text/plain": [
       "<Figure size 432x288 with 1 Axes>"
      ]
     },
     "metadata": {
      "needs_background": "light"
     },
     "output_type": "display_data"
    },
    {
     "data": {
      "image/png": "[encoded data removed]",
      "text/plain": [
       "<Figure size 432x288 with 1 Axes>"
      ]
     },
     "metadata": {
      "needs_background": "light"
     },
     "output_type": "display_data"
    },
    {
     "data": {
      "image/png": "[encoded data removed]",
      "text/plain": [
       "<Figure size 432x288 with 1 Axes>"
      ]
     },
     "metadata": {
      "needs_background": "light"
     },
     "output_type": "display_data"
    },
    {
     "data": {
      "image/png": "[encoded data removed]",
      "text/plain": [
       "<Figure size 432x288 with 1 Axes>"
      ]
     },
     "metadata": {
      "needs_background": "light"
     },
     "output_type": "display_data"
    },
    {
     "data": {
      "image/png": "[encoded data removed]",
      "text/plain": [
       "<Figure size 432x288 with 1 Axes>"
      ]
     },
     "metadata": {
      "needs_background": "light"
     },
     "output_type": "display_data"
    },
    {
     "data": {
      "image/png": "[encoded data removed]",
      "text/plain": [
       "<Figure size 432x288 with 1 Axes>"
      ]
     },
     "metadata": {
      "needs_background": "light"
     },
     "output_type": "display_data"
    },
    {
     "data": {
      "image/png": "[encoded data removed]",
      "text/plain": [
       "<Figure size 432x288 with 1 Axes>"
      ]
     },
     "metadata": {
      "needs_background": "light"
     },
     "output_type": "display_data"
    },
    {
     "data": {
      "image/png": "[encoded data removed]",
      "text/plain": [
       "<Figure size 432x288 with 1 Axes>"
      ]
     },
     "metadata": {
      "needs_background": "light"
     },
     "output_type": "display_data"
    },
    {
     "data": {
      "image/png": "[encoded data removed]",
      "text/plain": [
       "<Figure size 432x288 with 1 Axes>"
      ]
     },
     "metadata": {
      "needs_background": "light"
     },
     "output_type": "display_data"
    },
    {
     "data": {
      "image/png": "[encoded data removed]",
      "text/plain": [
       "<Figure size 432x288 with 1 Axes>"
      ]
     },
     "metadata": {
      "needs_background": "light"
     },
     "output_type": "display_data"
    },
    {
     "data": {
      "image/png": "[encoded data removed]",
      "text/plain": [
       "<Figure size 432x288 with 1 Axes>"
      ]
     },
     "metadata": {
      "needs_background": "light"
     },
     "output_type": "display_data"
    },
    {
     "data": {
      "image/png": "[encoded data removed]",
      "text/plain": [
       "<Figure size 432x288 with 1 Axes>"
      ]
     },
     "metadata": {
      "needs_background": "light"
     },
     "output_type": "display_data"
    },
    {
     "data": {
      "image/png": "[encoded data removed]",
      "text/plain": [
       "<Figure size 432x288 with 1 Axes>"
      ]
     },
     "metadata": {
      "needs_background": "light"
     },
     "output_type": "display_data"
    },
    {
     "data": {
      "image/png": "[encoded data removed]",
      "text/plain": [
       "<Figure size 432x288 with 1 Axes>"
      ]
     },
     "metadata": {
      "needs_background": "light"
     },
     "output_type": "display_data"
    },
    {
     "data": {
      "image/png": "[encoded data removed]",
      "text/plain": [
       "<Figure size 432x288 with 1 Axes>"
      ]
     },
     "metadata": {
      "needs_background": "light"
     },
     "output_type": "display_data"
    }
   ],
   "source": [
    "import matplotlib.pyplot as plt\n",
    "%matplotlib inline\n",
    "\n",
    "for i, img in enumerate(img_list[30:]):\n",
    "    img = img.detach().cpu().numpy()\n",
    "    img = img.reshape(28, 28)\n",
    "    plt.figure(i)\n",
    "    plt.imshow(img)\n"
   ]
  },
  {
   "cell_type": "code",
   "execution_count": 24,
   "metadata": {},
   "outputs": [
    {
     "data": {
      "text/plain": [
       "tensor([-1.5649e+00, -3.1037e-01, -4.6028e-01,  7.3794e-01,  2.2419e-01,\n",
       "        -4.6629e-01,  8.8602e-01, -4.5785e-01, -3.6058e-01,  5.2151e-01,\n",
       "        -9.5676e-01,  9.8635e-02, -2.2184e-03,  9.4041e-01, -6.6961e-01,\n",
       "         6.5446e-01,  3.5542e-02,  1.2562e+00,  6.6975e-01, -9.6971e-02,\n",
       "        -4.4120e-01,  2.1790e-03, -4.2388e-01,  1.3675e-01, -2.5530e-01,\n",
       "         9.5540e-01,  4.3439e-01,  3.5375e-01,  9.8293e-01,  1.7928e-01,\n",
       "         5.6655e-01, -1.2469e+00, -1.4384e-01,  1.2059e+00, -4.3941e-01,\n",
       "         1.2700e+00, -4.7460e-01,  5.2119e-01, -3.7073e-01, -9.3441e-02,\n",
       "        -8.6915e-01, -2.0542e-01, -5.1061e-01,  2.2877e-01,  3.7672e-01,\n",
       "         8.7237e-01,  6.1279e-01,  2.2675e-01,  7.9403e-01,  1.2734e+00,\n",
       "        -2.5567e-01,  3.3625e-01, -5.7791e-01, -3.4514e-01, -4.6474e-01,\n",
       "        -3.0294e-02,  6.1178e-01,  1.1928e-01, -5.8744e-01,  1.9188e-02,\n",
       "        -8.6125e-01, -2.4023e-01, -1.1981e-02,  8.5774e-01, -9.0545e-01,\n",
       "         3.0869e-01, -3.1482e-02,  1.2484e-02, -1.9779e+00,  5.8439e-01,\n",
       "        -6.8335e-01, -4.9195e-01,  6.6449e-01,  4.6551e-02, -6.9929e-01,\n",
       "         4.9919e-02, -1.2395e+00,  4.9036e-01, -1.4169e+00,  6.9739e-01,\n",
       "         4.0269e-01,  3.0134e-01, -1.4825e+00, -5.5015e-01,  1.1867e+00,\n",
       "        -1.0603e+00, -5.3076e-01, -3.2805e-01,  5.2971e-01, -3.5842e-01,\n",
       "         4.3497e-01,  2.4288e-01, -6.3712e-02,  2.8432e-02, -4.1757e-01,\n",
       "         6.7671e-01, -5.7169e-01,  2.2088e-01,  5.2783e-02,  2.2873e-01,\n",
       "         5.1741e-01,  2.7909e-01,  4.2988e-01,  2.0812e-01,  5.4055e-01,\n",
       "        -2.4937e-01,  6.1721e-01, -1.7013e-01, -3.8078e-02,  8.1484e-01,\n",
       "         3.1388e-01,  1.9308e-01, -1.1931e-01, -7.0316e-01, -1.1934e+00,\n",
       "        -1.3211e+00,  2.1193e-01,  5.4990e-01,  3.4458e-01,  4.4258e-01,\n",
       "         9.4171e-01, -4.9428e-01, -2.6154e-01,  1.7633e-01, -1.1153e+00,\n",
       "        -1.1661e+00, -3.0924e+00, -2.5309e+00, -1.8907e+00, -3.4415e+00,\n",
       "        -2.6569e+00, -2.2861e+00, -8.4405e-01, -1.5859e+00, -6.9442e-02,\n",
       "         3.7995e-01, -1.8876e-01,  4.2881e-01, -1.0323e+00, -7.0543e-01,\n",
       "        -2.8838e-01,  2.2057e-01, -2.9960e-01, -5.8525e-01,  3.7043e-01,\n",
       "         8.6855e-01,  9.8545e-01,  9.9844e-01,  9.2983e-01,  1.7121e+00,\n",
       "         1.3023e+00,  1.2153e+00, -1.4049e+00, -2.6182e+00, -3.8296e+00,\n",
       "        -4.9806e+00, -4.4269e+00, -4.7022e+00, -5.3088e+00, -2.0711e+00,\n",
       "        -1.1954e+00, -1.1061e+00,  1.8013e-01, -3.4841e-02,  3.0380e-01,\n",
       "        -4.0149e-01,  1.2136e-01,  8.4615e-02, -2.4595e-01,  5.1200e-01,\n",
       "        -1.2163e+00,  6.6559e-01,  1.6352e+00, -2.8012e-01,  1.3184e+00,\n",
       "         3.1249e+00,  1.9034e+00,  1.6729e+00,  1.5815e+00, -1.1863e-01,\n",
       "        -2.5574e-01, -2.8340e+00, -3.7212e+00, -5.2357e+00, -4.7052e+00,\n",
       "        -4.9991e+00, -5.5439e+00, -4.0569e+00, -2.7404e+00, -3.1819e-01,\n",
       "        -1.6463e+00,  1.1300e+00, -5.0223e-01,  7.2410e-01,  4.2952e-01,\n",
       "        -7.0100e-02, -3.5150e-01,  4.2463e-01,  8.9221e-01,  3.8938e-01,\n",
       "         1.2569e-01,  1.5812e+00,  9.9344e-01,  7.2670e-01,  2.5444e+00,\n",
       "         1.4304e+00,  2.1567e+00, -2.5527e+00, -6.6320e-01,  3.8644e-01,\n",
       "        -2.7450e+00, -7.9845e-01, -2.4029e+00, -3.2967e+00, -3.7821e+00,\n",
       "        -1.3481e+00, -3.2039e+00, -6.1368e-01, -1.2838e+00,  1.0126e+00,\n",
       "         6.0792e-01, -4.2926e-01,  3.2690e-01,  2.2751e-01, -7.0722e-01,\n",
       "        -1.6901e+00,  1.4435e+00, -1.0818e+00,  1.2154e+00,  1.3744e+00,\n",
       "         1.6751e+00,  3.5204e+00,  4.0906e+00,  2.5364e+00,  7.1006e-01,\n",
       "         8.0095e-01,  3.1268e+00,  3.5034e-01,  1.5945e+00,  1.4796e+00,\n",
       "        -6.2980e-02, -2.5579e+00,  1.8975e-01, -2.8339e+00,  3.7176e-01,\n",
       "        -1.0893e+00, -5.7358e-01,  2.2342e+00, -5.7370e-01,  1.2144e+00,\n",
       "        -8.6833e-01,  1.0906e+00,  1.2283e+00, -1.0534e+00,  2.5289e-01,\n",
       "         6.7141e-01,  2.2808e+00,  1.7719e+00,  3.6045e+00,  3.6904e+00,\n",
       "         3.7509e+00,  2.0966e+00,  6.9005e-01,  5.8416e-01,  2.6586e-01,\n",
       "         1.3026e+00,  4.4519e-01,  1.0543e+00, -3.2096e-01,  1.4743e+00,\n",
       "        -8.6043e-01, -2.2659e-01, -8.4287e-01,  1.5145e-01, -1.6997e+00,\n",
       "         8.4583e-02,  2.7242e-01, -6.2430e-01, -7.7986e-02,  1.6791e-01,\n",
       "         7.2468e-01,  6.6400e-01,  1.0393e+00, -4.8413e-02,  1.2756e+00,\n",
       "         2.0052e+00,  2.5283e+00,  2.6169e+00,  2.8792e+00,  2.3243e+00,\n",
       "        -4.9668e-01, -1.5150e+00,  1.2530e+00,  1.2630e-01, -9.4524e-01,\n",
       "         8.4829e-02,  1.1602e+00, -1.2199e+00,  1.1665e+00, -1.1184e+00,\n",
       "        -5.8727e-01, -1.0511e-01, -6.8424e-01,  1.7326e-01,  2.5575e-01,\n",
       "        -4.6260e-01,  8.9148e-02,  4.6684e-02,  7.4228e-01,  4.5383e-01,\n",
       "         1.0696e+00, -8.9807e-01,  1.5091e+00,  3.1113e+00,  2.3690e+00,\n",
       "         3.4779e+00,  3.2751e-01,  2.9206e-01,  1.6086e+00, -1.0896e+00,\n",
       "         1.8539e+00,  2.9620e-01, -2.7425e+00, -1.7216e+00, -1.6839e+00,\n",
       "         1.4454e+00,  6.4191e-01,  4.5911e-01,  3.5108e-01, -1.1989e+00,\n",
       "        -1.7638e+00,  6.1954e-01, -5.5760e-01, -3.3273e-01,  4.4241e-01,\n",
       "         1.0950e+00, -6.5447e-01, -9.8304e-01,  1.6877e+00,  2.6088e-01,\n",
       "         2.0858e-02,  2.9220e+00,  2.1072e+00,  3.0130e+00,  2.3799e+00,\n",
       "         1.1487e-01, -1.5409e+00,  8.6229e-01,  1.9727e+00, -7.9990e-01,\n",
       "        -3.5183e+00, -6.5170e-01, -3.5546e-01,  5.0510e+00,  1.9438e+00,\n",
       "         1.5911e+00, -6.3300e-01, -1.2310e+00, -4.6476e-01, -1.2198e-01,\n",
       "        -1.4409e+00,  1.4020e+00, -1.3110e+00, -4.0069e-01,  6.7937e-01,\n",
       "         9.3041e-01,  9.2739e-01,  1.1121e+00,  3.8375e-01,  1.0791e+00,\n",
       "         3.3895e+00,  6.6971e-01,  1.8142e+00, -8.3496e-01,  2.9654e+00,\n",
       "        -3.1125e-01,  4.3660e-01, -5.3482e-01, -4.1756e+00, -5.4431e-01,\n",
       "        -2.1536e+00,  3.1171e+00,  4.0910e+00,  2.2478e+00,  8.8223e-02,\n",
       "        -2.8073e+00, -2.1537e+00, -6.4682e-01,  1.1657e+00, -9.7816e-01,\n",
       "         1.1261e-01,  1.5939e-01,  7.2368e-02,  4.6253e-01,  3.0514e-01,\n",
       "        -1.0582e+00,  3.6699e-01,  2.1860e+00, -6.9153e-01,  8.3055e-01,\n",
       "         6.8951e-01, -1.5166e-01,  9.7042e-01,  1.6245e+00,  1.0232e+00,\n",
       "        -2.4758e+00, -2.4765e+00, -6.8226e-02,  2.9772e+00,  3.3474e+00,\n",
       "         5.0474e+00,  4.2484e+00, -1.2255e+00, -2.4027e+00, -9.4307e-01,\n",
       "         4.5112e-02,  7.0722e-01,  4.6626e-01, -1.8229e-01, -2.4139e-01,\n",
       "        -4.3428e-01,  7.5072e-02,  6.3911e-02,  3.6853e-01,  5.0218e-01,\n",
       "         2.8745e+00,  2.6051e+00,  2.9528e-01,  1.1582e+00,  1.0879e+00,\n",
       "         1.9044e+00,  3.2964e+00,  6.8549e-01, -9.7962e-02, -2.6158e-03,\n",
       "         3.3037e+00,  2.7648e+00,  5.2237e+00,  5.6211e+00,  2.1657e+00,\n",
       "         1.1098e+00, -7.4737e-01, -2.9257e-01,  1.6538e+00,  9.4123e-01,\n",
       "         2.4936e-01, -1.2021e+00, -3.0755e-01,  9.3885e-01,  4.7711e-01,\n",
       "         3.6156e-01,  6.6051e-01, -3.0512e-01,  1.8520e-01, -3.6798e-01,\n",
       "        -1.9410e+00, -7.6057e-01,  5.5808e-01,  2.7937e+00,  1.7184e+00,\n",
       "         6.7076e-01,  1.5823e+00, -1.9799e+00,  1.6198e+00,  2.9975e+00,\n",
       "         3.7951e+00,  6.5647e+00,  2.7056e+00,  2.0943e+00,  4.8288e-01,\n",
       "         1.5751e+00,  1.3869e+00,  1.2203e-01, -1.9264e-01,  2.4838e-01,\n",
       "         3.4460e-01, -2.6037e-01, -1.8759e-01, -5.5463e-01, -7.0174e-01,\n",
       "        -1.2151e+00, -5.1351e-01, -1.6540e+00, -1.6882e+00, -1.0171e+00,\n",
       "        -1.0095e+00, -1.9568e-01,  7.0481e-01,  8.0628e-01, -5.8629e-01,\n",
       "         2.0970e+00,  1.3630e+00,  2.1841e+00,  9.6298e-01,  2.6788e-01,\n",
       "        -1.1698e+00,  3.2304e-01,  1.1643e+00,  2.3316e-01, -2.6650e-01,\n",
       "        -1.3576e+00,  6.1637e-01, -1.9497e-01,  3.9382e-01,  2.6075e-01,\n",
       "         3.7484e-01,  3.8855e-01,  1.4086e-01,  6.8824e-02, -7.7163e-01,\n",
       "        -1.8817e+00, -3.4822e+00, -2.0917e+00, -1.1942e+00, -1.9747e+00,\n",
       "        -1.9243e+00, -1.4922e+00, -2.4580e+00, -4.5063e-02, -3.2601e-01,\n",
       "        -1.0829e+00, -2.1692e+00, -2.1387e+00,  6.1952e-02,  4.9739e-01,\n",
       "         3.7878e+00,  1.3332e+00,  6.0788e-01, -1.1579e-01, -1.7591e-01,\n",
       "         1.4816e+00,  1.5352e+00, -6.6402e-01,  7.5482e-01, -3.3402e-01,\n",
       "         8.4403e-01, -1.5971e+00, -1.7064e+00, -2.1469e+00, -1.8374e+00,\n",
       "        -5.2596e+00, -3.9131e+00, -1.9025e+00, -4.4081e+00, -1.1726e+00,\n",
       "        -9.3269e-01, -1.2033e+00,  2.2629e-01, -1.2334e+00, -3.9001e+00,\n",
       "        -4.3713e+00, -1.3867e-01,  6.2104e+00,  1.9422e+00, -2.0124e-03,\n",
       "         1.3294e+00,  5.6121e-01,  3.8512e-01,  5.0485e-01,  1.3103e+00,\n",
       "         6.6105e-01, -4.3691e-01,  4.0540e-01, -4.2527e-01, -8.9979e-01,\n",
       "         1.7553e-02, -1.4456e+00, -2.0967e+00, -4.4950e+00, -4.4239e+00,\n",
       "        -3.9098e+00, -4.2737e+00, -5.4636e+00, -1.5999e+00, -3.3980e+00,\n",
       "        -3.0275e+00, -4.2961e+00, -3.9833e+00, -9.7021e-01,  1.7869e+00,\n",
       "         3.3277e+00,  2.4883e+00,  1.1735e+00,  4.5595e-01, -1.2473e+00,\n",
       "        -1.0643e+00, -2.0207e-01, -1.1331e-01, -1.2357e+00, -1.5839e+00,\n",
       "         8.2843e-01,  3.3497e-01,  2.1559e+00, -1.3993e+00, -2.4209e+00,\n",
       "        -3.4047e+00, -4.2409e+00, -4.1221e+00, -5.9869e+00, -4.4025e+00,\n",
       "        -1.7473e+00, -2.6896e+00, -3.7846e+00, -3.2643e+00, -5.3679e+00,\n",
       "        -2.7370e+00,  1.2648e+00,  5.2262e+00,  1.7832e+00,  3.7187e+00,\n",
       "         1.0972e+00, -1.0571e+00,  1.4942e-01,  4.8496e-01,  1.0030e-01,\n",
       "         1.3023e-01,  3.8079e-01,  2.6960e-01,  1.0733e-01, -4.5690e-01,\n",
       "        -4.3528e-01, -1.9804e+00, -8.6331e-01, -2.1305e+00, -5.0434e+00,\n",
       "        -4.2505e+00, -4.4295e+00, -6.6082e+00, -3.3989e+00, -2.3723e+00,\n",
       "        -3.9816e+00, -2.8648e+00, -3.1415e+00, -1.1677e+00,  3.6916e+00,\n",
       "         4.4679e+00,  6.5347e+00,  1.7224e+00, -1.4616e+00,  1.9611e-01,\n",
       "         8.6589e-01, -8.0487e-01,  1.0148e+00, -1.1179e+00, -1.4625e-01,\n",
       "        -2.3929e-01,  4.1853e-01,  5.7851e-01,  6.6922e-02,  2.4127e-01,\n",
       "        -1.4458e+00,  1.2211e+00, -4.2875e+00, -3.5343e+00, -3.3503e+00,\n",
       "        -3.7038e+00, -3.2431e+00,  1.4825e-01,  1.4663e+00, -1.2008e-01,\n",
       "         1.5093e+00,  1.8688e+00,  1.8894e+00,  3.1743e+00,  3.6360e+00,\n",
       "        -5.6035e-02,  4.4600e-01, -8.7338e-02, -8.7686e-01,  1.3889e-01,\n",
       "        -4.2711e-01,  3.4719e-01,  2.2688e+00, -6.3554e-01,  8.2172e-01,\n",
       "        -6.6017e-01, -6.5402e-01, -1.1449e+00, -5.9641e-01, -6.4310e-01,\n",
       "         9.1732e-01, -4.6790e-01, -2.4044e+00, -4.8038e-01,  1.6720e+00,\n",
       "         2.5540e+00,  2.9794e+00,  1.3910e+00,  7.8195e-02, -1.6393e+00,\n",
       "         1.6290e+00,  1.8840e+00,  2.8815e+00,  1.8584e-01,  6.6957e-01,\n",
       "        -6.4511e-02, -6.0576e-01,  7.2988e-01, -9.0848e-01,  5.4557e-01,\n",
       "         3.4580e-01, -2.8239e-01,  2.0030e-01, -9.0818e-01,  8.4348e-01,\n",
       "         4.4621e-01, -3.1219e-02,  1.2622e+00,  1.2774e-01,  2.8499e-01,\n",
       "         8.8583e-02,  2.8213e+00,  2.2283e+00,  4.1062e+00,  2.6130e+00,\n",
       "         2.1423e+00, -5.1108e-01, -4.2876e-01,  3.6553e-01,  1.8815e+00,\n",
       "         1.9529e+00,  6.4770e-01,  1.3618e-01,  6.2155e-01,  9.0490e-02,\n",
       "         7.7836e-01,  1.4105e+00, -5.6651e-02,  1.6137e+00,  5.1725e-02,\n",
       "        -8.0902e-01, -9.3704e-01, -6.6798e-01, -1.4911e-01, -5.1612e-02,\n",
       "         4.0040e-01, -7.4541e-01,  5.4157e-01, -1.4562e+00, -1.0812e+00,\n",
       "         1.3435e+00,  1.7181e-01,  8.5964e-01,  5.6584e-01,  1.0553e+00,\n",
       "        -2.8067e-01,  6.7781e-01,  7.9722e-02, -1.5380e-01,  9.4212e-01,\n",
       "        -7.9130e-01,  1.2603e-01,  1.1604e+00, -2.6393e-01, -5.9723e-01,\n",
       "         1.0685e+00,  8.3422e-01, -1.3525e-01, -6.8733e-01, -3.6532e-02,\n",
       "         5.6303e-01, -6.7069e-01,  5.9862e-01,  1.0224e+00, -7.8099e-01,\n",
       "        -6.7855e-01,  2.6347e-01,  5.7415e-01,  2.5094e-01,  1.5979e+00,\n",
       "        -9.5077e-01,  9.1337e-01,  3.6612e-01,  2.9937e-03,  1.6581e+00,\n",
       "        -3.5938e-01,  1.2731e+00,  1.3748e+00, -9.1996e-01, -6.4159e-01,\n",
       "        -8.8651e-01,  5.0168e-01, -2.0127e-01, -1.3072e-01], device='cuda:0',\n",
       "       grad_fn=<SelectBackward>)"
      ]
     },
     "execution_count": 24,
     "metadata": {},
     "output_type": "execute_result"
    }
   ],
   "source": [
    "img_list[10]"
   ]
  },
  {
   "cell_type": "code",
   "execution_count": null,
   "metadata": {},
   "outputs": [],
   "source": []
  }
 ],
 "metadata": {
  "kernelspec": {
   "display_name": "vonenet",
   "language": "python",
   "name": "vonenet"
  },
  "language_info": {
   "codemirror_mode": {
    "name": "ipython",
    "version": 3
   },
   "file_extension": ".py",
   "mimetype": "text/x-python",
   "name": "python",
   "nbconvert_exporter": "python",
   "pygments_lexer": "ipython3",
   "version": "3.8.12"
  },
  "orig_nbformat": 4,
  "vscode": {
   "interpreter": {
    "hash": "55d1cec42f6f0daad0b1c59ff4ec6e5f5642a3ecfff6c2f481e68af5b3a10134"
   }
  }
 },
 "nbformat": 4,
 "nbformat_minor": 2
}
